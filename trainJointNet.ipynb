{
 "cells": [
  {
   "cell_type": "code",
   "execution_count": null,
   "id": "b0b2160f",
   "metadata": {},
   "outputs": [],
   "source": [
    "import os\n",
    "import sys\n",
    "import time\n",
    "import numpy as np\n",
    "import torch\n",
    "import torch.nn as nn\n",
    "import torch.nn.functional as Function\n",
    "from torch.optim.lr_scheduler import CosineAnnealingLR\n",
    "from torch.utils.data import DataLoader\n",
    "\n",
    "from model.dataset import SMPLRandomDataset\n",
    "from model.SkinningNet import JointNet\n",
    "from model.utils import JointLoss, getSkeletonOneRingIdx\n",
    "\n",
    "from meshplot import plot\n",
    "import igl\n",
    "device = torch.device('cuda' if torch.cuda.is_available() else 'cpu')\n",
    "print(\"device:%s\"%device)"
   ]
  },
  {
   "cell_type": "code",
   "execution_count": null,
   "id": "3098cc30",
   "metadata": {},
   "outputs": [],
   "source": [
    "batchSize = 16\n",
    "trainDataset = SMPLRandomDataset(complexity = \"all\", \n",
    "                                 gender = \"mixed\", \n",
    "                                 dataSize = 5000, \n",
    "                                 vertexOrderRandom = True, \n",
    "                                 noise = 1, \n",
    "                                 rotate = False, \n",
    "                                 scale = True,\n",
    "                                 translate = True,\n",
    "                                 centre = False)\n",
    "trainIter = DataLoader(trainDataset, num_workers=0, batch_size=batchSize, shuffle=True, drop_last=True)\n",
    "allTrainNUM = len(trainDataset)"
   ]
  },
  {
   "cell_type": "code",
   "execution_count": null,
   "id": "5661bef2",
   "metadata": {},
   "outputs": [],
   "source": [
    "net = JointNet()\n",
    "net = net.to(device)\n",
    "net.load_state_dict(torch.load(\".\\stateDict\\jointNet_pretrain.pkl\"))"
   ]
  },
  {
   "cell_type": "code",
   "execution_count": null,
   "id": "c14051ab",
   "metadata": {},
   "outputs": [],
   "source": [
    "lr = 0.00005\n",
    "epochs = 100\n",
    "opt = torch.optim.Adam(net.parameters(), lr=lr)\n",
    "scheduler = CosineAnnealingLR(opt, epochs, eta_min=0.1*lr)\n",
    "loss = JointLoss()"
   ]
  },
  {
   "cell_type": "code",
   "execution_count": null,
   "id": "54c258e4",
   "metadata": {},
   "outputs": [],
   "source": [
    "beginTime = time.time()\n",
    "net = net.train()\n",
    "\n",
    "skeletonOneRingIdx = getSkeletonOneRingIdx(\"human\")\n",
    "skeletonOneRingIdx = torch.tensor(skeletonOneRingIdx).unsqueeze(0).repeat(batchSize, 1, 1).to(device).long()\n",
    "for epoch in range(epochs):\n",
    "    epochBegin = time.time()\n",
    "    trainLoss = 0.0\n",
    "    completedNum = 0\n",
    "    batchNum = 0\n",
    "    trainAcc = 0.0\n",
    "    for V, facesOneRingIdx, rigW, joints in trainIter:\n",
    "        V = V.to(device).float()\n",
    "        facesOneRingIdx = facesOneRingIdx.to(device).long()\n",
    "        rigW = rigW.to(device).float()\n",
    "        joints = joints.to(device).float()\n",
    "        opt.zero_grad()\n",
    "        \n",
    "        preJ = net(V, rigW, facesOneRingIdx, skeletonOneRingIdx)\n",
    "        l = loss(preJ, joints)\n",
    "        l.backward()\n",
    "        opt.step()\n",
    "        \n",
    "        batchLoss = float(l)\n",
    "        trainLoss += batchLoss\n",
    "        batchNum += 1\n",
    "        completedNum += batchSize\n",
    "        compltePer = completedNum/allTrainNUM\n",
    "        leftTime = ((time.time() - epochBegin)/compltePer - (time.time() - epochBegin))/60\n",
    "        sys.stdout.write('\\r 训练%i / %i, 关节点损失: %f, 当前进度: %0.2f%%, 预计剩余%0.2f分钟'%(completedNum, allTrainNUM, batchLoss, compltePer * 100, leftTime))\n",
    "        sys.stdout.flush()\n",
    "\n",
    "    torch.save(net.state_dict(), \".\\stateDict\\epochs\\jointNet%d.pkl\"%epoch)\n",
    "    print(\"\\n\")\n",
    "    print(\"epoch%d,  关节点损失: %f, 用时：%0.2f minuetes\"%(epoch+1, trainLoss/batchNum, (time.time() - beginTime) / 60 ))\n",
    "    print(\"----------------------------------\")\n",
    "    scheduler.step()"
   ]
  },
  {
   "cell_type": "code",
   "execution_count": null,
   "id": "7f5752ba",
   "metadata": {},
   "outputs": [],
   "source": [
    "torch.save(net.state_dict(), \".\\stateDict\\jointNet_pretrain_noise.pkl\")"
   ]
  },
  {
   "cell_type": "code",
   "execution_count": null,
   "id": "b656d713",
   "metadata": {},
   "outputs": [],
   "source": [
    "batchSize = 8\n",
    "testDataset = SMPLRandomDataset(complexity = \"all\", \n",
    "                                 gender = \"mixed\", \n",
    "                                 dataSize = 5000, \n",
    "                                 vertexOrderRandom = True, \n",
    "                                 noise = 0, \n",
    "                                 rotate = False, \n",
    "                                 scale = False,\n",
    "                                 translate = False,\n",
    "                                 centre = False)\n",
    "testIter = DataLoader(testDataset, num_workers=0, batch_size=batchSize, shuffle=False, drop_last=False)\n",
    "allTestNUM = len(testDataset)"
   ]
  },
  {
   "cell_type": "code",
   "execution_count": null,
   "id": "a7903989",
   "metadata": {},
   "outputs": [],
   "source": [
    "net = JointNet()\n",
    "net = net.to(device)\n",
    "loss = JointLoss()\n",
    "net.load_state_dict(torch.load(\".\\stateDict\\jointNet_pretrain.pkl\"))"
   ]
  },
  {
   "cell_type": "code",
   "execution_count": null,
   "id": "e070906c",
   "metadata": {},
   "outputs": [],
   "source": [
    "beginTime = time.time()\n",
    "net = net.eval()\n",
    "\n",
    "testLoss = 0.0\n",
    "completedNum = 0\n",
    "batchNum = 0\n",
    "\n",
    "skeletonOneRingIdx = getSkeletonOneRingIdx(\"human\")\n",
    "skeletonOneRingIdx = torch.tensor(skeletonOneRingIdx).unsqueeze(0).repeat(batchSize, 1, 1).to(device).long()\n",
    "\n",
    "for V, facesOneRingIdx, rigW, joints in testIter:\n",
    "    V = V.to(device).float()\n",
    "    facesOneRingIdx = facesOneRingIdx.to(device).long()\n",
    "    rigW = rigW.to(device).float()\n",
    "    joints = joints.to(device).float()\n",
    "        \n",
    "    with torch.no_grad():\n",
    "        preJ = net(V, rigW, facesOneRingIdx, skeletonOneRingIdx)\n",
    "        l = loss(preJ, joints)\n",
    "        \n",
    "    batchLoss = float(l)\n",
    "    testLoss += batchLoss\n",
    "    batchNum += 1\n",
    "    completedNum += batchSize\n",
    "    compltePer = completedNum / allTestNUM\n",
    "    leftTime = ((time.time() - beginTime)/compltePer - (time.time() - beginTime))/60\n",
    "    sys.stdout.write('\\r 测试%i / %i, 关节点损失: %f, 当前进度: %0.2f%%, 预计剩余%d分钟'%(completedNum, allTestNUM, batchLoss, compltePer * 100, leftTime))\n",
    "    sys.stdout.flush()\n"
   ]
  },
  {
   "cell_type": "code",
   "execution_count": null,
   "id": "701e11d6",
   "metadata": {},
   "outputs": [],
   "source": [
    "print('测试完成')\n",
    "print('测试样本%i个, 关节点损失: %f, 用时%d分钟'%(allTestNUM, testLoss/batchNum, leftTime))"
   ]
  },
  {
   "cell_type": "code",
   "execution_count": null,
   "id": "7fd5646b",
   "metadata": {},
   "outputs": [],
   "source": [
    "for V, facesOneRingIdx, rigW, joints in trainIter:\n",
    "    V = V.to(device).float()\n",
    "    facesOneRingIdx = facesOneRingIdx.to(device).long()\n",
    "    rigW = rigW.to(device).float()\n",
    "    joints = joints.to(device).float()\n",
    "    break"
   ]
  },
  {
   "cell_type": "code",
   "execution_count": null,
   "id": "82d2262d",
   "metadata": {},
   "outputs": [],
   "source": [
    "idx = 0\n",
    "v = V[idx].detach().cpu().numpy()\n",
    "j = joints[idx].detach().cpu().numpy()\n",
    "prejoint = preJ[idx].detach().cpu().numpy()"
   ]
  },
  {
   "cell_type": "code",
   "execution_count": null,
   "id": "f78454af",
   "metadata": {},
   "outputs": [],
   "source": [
    "p = plot(v, shading={\"point_size\": \"0.04\"})\n",
    "#p.add_points(j, shading={\"point_size\": \"0.2\", \"point_color\":\"blue\"})\n",
    "p.add_points(prejoint, shading={\"point_size\": \"0.2\", \"point_color\":\"green\"})"
   ]
  },
  {
   "cell_type": "code",
   "execution_count": null,
   "id": "e60c9ffe",
   "metadata": {},
   "outputs": [],
   "source": [
    "np.load(\".\\data\\%s_pose.npy\"%\"test_simple\").shape"
   ]
  },
  {
   "cell_type": "code",
   "execution_count": null,
   "id": "42cdacb4",
   "metadata": {},
   "outputs": [],
   "source": [
    "j"
   ]
  },
  {
   "cell_type": "code",
   "execution_count": null,
   "id": "383414dd",
   "metadata": {},
   "outputs": [],
   "source": []
  }
 ],
 "metadata": {
  "kernelspec": {
   "display_name": "Python 3.9.12 ('PoseTransfer')",
   "language": "python",
   "name": "python3"
  },
  "language_info": {
   "codemirror_mode": {
    "name": "ipython",
    "version": 3
   },
   "file_extension": ".py",
   "mimetype": "text/x-python",
   "name": "python",
   "nbconvert_exporter": "python",
   "pygments_lexer": "ipython3",
   "version": "3.9.12"
  },
  "vscode": {
   "interpreter": {
    "hash": "afd1c8bd986bd51500ccc481c6a9a98dc1aa24acb23947512a2e61ee78bbeeeb"
   }
  }
 },
 "nbformat": 4,
 "nbformat_minor": 5
}
