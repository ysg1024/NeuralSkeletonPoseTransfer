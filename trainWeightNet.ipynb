{
 "cells": [
  {
   "cell_type": "code",
   "execution_count": null,
   "id": "1d85e0f1",
   "metadata": {},
   "outputs": [],
   "source": [
    "import os\n",
    "import sys\n",
    "import time\n",
    "import numpy as np\n",
    "import torch\n",
    "import torch.nn as nn\n",
    "import torch.nn.functional as Function\n",
    "from torch.optim.lr_scheduler import CosineAnnealingLR\n",
    "from torch.utils.data import DataLoader\n",
    "\n",
    "from model.dataset import SMPLRandomDataset\n",
    "from model.SkinningNet import WeightBindingNet\n",
    "from model.utils import WeightBindingLoss\n",
    "\n",
    "from meshplot import plot\n",
    "import igl\n",
    "device = torch.device('cuda' if torch.cuda.is_available() else 'cpu')\n",
    "print(\"device:%s\"%device)"
   ]
  },
  {
   "cell_type": "code",
   "execution_count": null,
   "id": "0ab46264",
   "metadata": {},
   "outputs": [],
   "source": [
    "batchSize = 16\n",
    "trainDataset = SMPLRandomDataset(complexity = \"all\", \n",
    "                                 gender = \"mixed\", \n",
    "                                 dataSize = 5000, \n",
    "                                 vertexOrderRandom = True, \n",
    "                                 noise = 1, \n",
    "                                 rotate = False, \n",
    "                                 scale = True,\n",
    "                                 translate = True,\n",
    "                                 centre = False)\n",
    "trainIter = DataLoader(trainDataset, num_workers=0, batch_size=batchSize, shuffle=True, drop_last=True)\n",
    "allTrainNUM = len(trainDataset)"
   ]
  },
  {
   "cell_type": "code",
   "execution_count": null,
   "id": "c934bae0",
   "metadata": {
    "scrolled": true
   },
   "outputs": [],
   "source": [
    "net = WeightBindingNet(jointNum = 24)\n",
    "net = net.to(device)\n",
    "net.load_state_dict(torch.load(\".\\stateDict\\weightNet_pretrain_rotation.pkl\"))"
   ]
  },
  {
   "cell_type": "code",
   "execution_count": null,
   "id": "28659b05",
   "metadata": {},
   "outputs": [],
   "source": [
    "lr = 0.0001\n",
    "epochs =100\n",
    "opt = torch.optim.Adam(net.parameters(), lr=lr)\n",
    "scheduler = CosineAnnealingLR(opt, epochs, eta_min=0.1*lr)\n",
    "\n",
    "loss = WeightBindingLoss()"
   ]
  },
  {
   "cell_type": "code",
   "execution_count": null,
   "id": "0e02bb77",
   "metadata": {},
   "outputs": [],
   "source": [
    "beginTime = time.time()\n",
    "net = net.train()\n",
    "\n",
    "for epoch in range(epochs):\n",
    "    epochBegin = time.time()\n",
    "    trainLoss = 0.0\n",
    "    completedNum = 0\n",
    "    batchNum = 0\n",
    "    trainAcc = 0.0\n",
    "    for V, facesOneRingIdx, rigW, joints in trainIter:\n",
    "        V = V.to(device).float()\n",
    "        facesOneRingIdx = facesOneRingIdx.to(device).long()\n",
    "        rigW = rigW.to(device).float()\n",
    "        \n",
    "        opt.zero_grad()\n",
    "        \n",
    "        preA = net(V, facesOneRingIdx)\n",
    "        l, acc = loss(preA, rigW.permute(0, 2, 1))\n",
    "        l.backward()\n",
    "        opt.step()\n",
    "        \n",
    "        batchLoss = float(l)\n",
    "        batchAcc = float(acc)\n",
    "        trainAcc += batchAcc\n",
    "        trainLoss += batchLoss\n",
    "        batchNum += 1\n",
    "        completedNum += batchSize\n",
    "        compltePer = completedNum/allTrainNUM\n",
    "        leftTime = ((time.time() - epochBegin)/compltePer - (time.time() - epochBegin))/60\n",
    "        sys.stdout.write('\\r 训练%i / %i, 权重损失: %f, 准确率：%0.2f%%, 当前进度: %0.2f%%, 预计剩余%d分钟'%(completedNum, allTrainNUM, batchLoss, batchAcc*100, compltePer * 100, leftTime))\n",
    "        sys.stdout.flush()\n",
    "        \n",
    "    torch.save(net.state_dict(), \".\\stateDict\\epochs\\weightNet%d.pkl\"%epoch)\n",
    "    print(\"\\n\")\n",
    "    print(\"epoch%d, 权重损失: %f, 准确率：%0.2f%%, 用时：%0.2f minuetes\"%(epoch+1, trainLoss/batchNum, trainAcc/batchNum*100, (time.time() - beginTime) / 60 ))\n",
    "    print(\"----------------------------------\")\n",
    "    scheduler.step()"
   ]
  },
  {
   "cell_type": "code",
   "execution_count": null,
   "id": "a122dd94",
   "metadata": {},
   "outputs": [],
   "source": [
    "torch.save(net.state_dict(), \".\\stateDict\\weightNet_pretrain_noise.pkl\")"
   ]
  },
  {
   "cell_type": "code",
   "execution_count": null,
   "id": "4aa5dc2f",
   "metadata": {},
   "outputs": [],
   "source": [
    "batchSize = 8\n",
    "testDataset = SMPLRandomDataset(complexity = \"all\", \n",
    "                                 gender = \"mixed\", \n",
    "                                 dataSize = 5000, \n",
    "                                 vertexOrderRandom = True, \n",
    "                                 noise = 0, \n",
    "                                 rotate = False, \n",
    "                                 scale = False, \n",
    "                                 translate = False)\n",
    "testIter = DataLoader(testDataset, num_workers=0, batch_size=batchSize, shuffle=False, drop_last=False)\n",
    "allTestNUM = len(testDataset)"
   ]
  },
  {
   "cell_type": "code",
   "execution_count": null,
   "id": "0556f774",
   "metadata": {},
   "outputs": [],
   "source": [
    "beginTime = time.time()\n",
    "#net = net.eval()\n",
    "\n",
    "\n",
    "beginTime = time.time()\n",
    "testLoss = 0.0\n",
    "completedNum = 0\n",
    "batchNum = 0\n",
    "testAcc = 0.0\n",
    "for V, facesOneRingIdx, rigW, joints in testIter:\n",
    "    V = V.to(device).float()\n",
    "    facesOneRingIdx = facesOneRingIdx.to(device).long()\n",
    "    rigW = rigW.to(device).float()\n",
    "\n",
    "    with torch.no_grad():\n",
    "        preA = net(V, facesOneRingIdx)\n",
    "        l, acc = loss(preA, rigW.permute(0, 2, 1))\n",
    "\n",
    "\n",
    "    batchLoss = float(l)\n",
    "    batchAcc = float(acc)\n",
    "    testAcc += batchAcc\n",
    "    testLoss += batchLoss\n",
    "    batchNum += 1\n",
    "    completedNum += batchSize\n",
    "    compltePer = completedNum/allTestNUM\n",
    "    leftTime = ((time.time() - beginTime)/compltePer - (time.time() - beginTime))/60\n",
    "    sys.stdout.write('\\r 训练%i / %i, 权重损失: %f, 准确率：%0.2f%%, 当前进度: %0.2f%%, 预计剩余%d分钟'%(completedNum, allTestNUM, batchLoss, batchAcc*100, compltePer * 100, leftTime))\n",
    "    sys.stdout.flush()\n",
    "print(\"\\n\")\n",
    "print(\"epoch%d, 权重损失: %f, 准确率：%0.2f%%, 用时：%0.2f minuetes\"%(epoch+1, testLoss/batchNum, testAcc/batchNum*100, (time.time() - beginTime) / 60 ))\n",
    "print(\"----------------------------------\")\n"
   ]
  },
  {
   "cell_type": "code",
   "execution_count": null,
   "id": "08e8005d",
   "metadata": {},
   "outputs": [],
   "source": [
    "v = V[0].detach().cpu().numpy()\n",
    "\n",
    "rigw = rigW[0].detach().cpu().numpy()\n",
    "prew = preA[0].detach().cpu().numpy()"
   ]
  },
  {
   "cell_type": "code",
   "execution_count": null,
   "id": "42672e04",
   "metadata": {},
   "outputs": [],
   "source": [
    "p = plot(v,c = prew.argmax(axis = 0), shading={\"point_size\": \"0.04\"})\n",
    "#p.add_points(j, shading={\"point_size\": \"0.2\", \"point_color\":\"blue\"})\n",
    "#p.add_points(prejoint, shading={\"point_size\": \"0.2\", \"point_color\":\"green\"})"
   ]
  },
  {
   "cell_type": "code",
   "execution_count": null,
   "id": "1dea30de",
   "metadata": {},
   "outputs": [],
   "source": [
    "testAcc/batchNum"
   ]
  },
  {
   "cell_type": "code",
   "execution_count": null,
   "id": "88e8f178",
   "metadata": {},
   "outputs": [],
   "source": []
  }
 ],
 "metadata": {
  "kernelspec": {
   "display_name": "Python 3.9.12 ('PoseTransfer')",
   "language": "python",
   "name": "python3"
  },
  "language_info": {
   "codemirror_mode": {
    "name": "ipython",
    "version": 3
   },
   "file_extension": ".py",
   "mimetype": "text/x-python",
   "name": "python",
   "nbconvert_exporter": "python",
   "pygments_lexer": "ipython3",
   "version": "3.9.12"
  },
  "vscode": {
   "interpreter": {
    "hash": "afd1c8bd986bd51500ccc481c6a9a98dc1aa24acb23947512a2e61ee78bbeeeb"
   }
  }
 },
 "nbformat": 4,
 "nbformat_minor": 5
}
