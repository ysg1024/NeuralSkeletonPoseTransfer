{
 "cells": [
  {
   "cell_type": "code",
   "execution_count": null,
   "id": "5c693561",
   "metadata": {},
   "outputs": [],
   "source": [
    "import os\n",
    "import sys\n",
    "import time\n",
    "import numpy as np\n",
    "import torch\n",
    "import torch.nn as nn\n",
    "import torch.nn.functional as Function\n",
    "from torch.optim.lr_scheduler import CosineAnnealingLR\n",
    "from torch.utils.data import DataLoader\n",
    "\n",
    "from model.dataset import SMPLRandomDataset\n",
    "from model.SkinningNet import JointNet, WeightBindingNet, SkinningNet\n",
    "from model.utils import JointLoss, WeightBindingLoss, getSkeletonOneRingIdx\n",
    "\n",
    "from meshplot import plot\n",
    "import igl\n",
    "device = torch.device('cuda' if torch.cuda.is_available() else 'cpu')\n",
    "print(\"device:%s\"%device)"
   ]
  },
  {
   "cell_type": "code",
   "execution_count": null,
   "id": "61c886e7",
   "metadata": {},
   "outputs": [],
   "source": [
    "batchSize = 16\n",
    "trainDataset = SMPLRandomDataset(complexity = \"all\", \n",
    "                                 gender = \"mixed\", \n",
    "                                 dataSize = 5000, \n",
    "                                 vertexOrderRandom = True, \n",
    "                                 noise = 1, \n",
    "                                 rotate = False, \n",
    "                                 scale = True,\n",
    "                                 translate = True,\n",
    "                                 centre = False)\n",
    "trainIter = DataLoader(trainDataset, num_workers=0, batch_size=batchSize, shuffle=True, drop_last=True)\n",
    "allTrainNUM = len(trainDataset)"
   ]
  },
  {
   "cell_type": "code",
   "execution_count": null,
   "id": "77abd2c9",
   "metadata": {},
   "outputs": [],
   "source": [
    "net = JointNet()\n",
    "net.load_state_dict(torch.load(\".\\stateDict\\jointNet_pretrain_noise.pkl\"))\n",
    "net = net.to(device)\n",
    "\n",
    "weightNet = WeightBindingNet(jointNum = 24)\n",
    "weightNet.load_state_dict(torch.load(\".\\stateDict\\weightNet_pretrain_noise.pkl\"))\n",
    "weightNet.to(device)\n",
    "weightNet = weightNet.eval()"
   ]
  },
  {
   "cell_type": "code",
   "execution_count": null,
   "id": "8d67b17f",
   "metadata": {},
   "outputs": [],
   "source": [
    "lr = 0.00005\n",
    "epochs = 100\n",
    "opt = torch.optim.Adam(net.parameters(), lr=lr)\n",
    "scheduler = CosineAnnealingLR(opt, epochs, eta_min=0.1*lr)\n",
    "\n",
    "weightLoss = WeightBindingLoss()\n",
    "loss = JointLoss()"
   ]
  },
  {
   "cell_type": "code",
   "execution_count": null,
   "id": "a9ed76ad",
   "metadata": {},
   "outputs": [],
   "source": [
    "beginTime = time.time()\n",
    "net = net.train()\n",
    "\n",
    "skeletonOneRingIdx = getSkeletonOneRingIdx(\"human\")\n",
    "skeletonOneRingIdx = torch.tensor(skeletonOneRingIdx).unsqueeze(0).repeat(batchSize, 1, 1).to(device).long()\n",
    "for epoch in range(epochs):\n",
    "    epochBegin = time.time()\n",
    "    trainLoss = 0.0\n",
    "    completedNum = 0\n",
    "    batchNum = 0\n",
    "    trainAcc = 0.0\n",
    "    for V, facesOneRingIdx, rigW, joints in trainIter:\n",
    "        V = V.to(device).float()\n",
    "        facesOneRingIdx = facesOneRingIdx.to(device).long()\n",
    "        rigW = rigW.to(device).float()\n",
    "        joints = joints.to(device).float()\n",
    "        opt.zero_grad()\n",
    "        \n",
    "        with torch.no_grad():\n",
    "            preA = weightNet(V, facesOneRingIdx)\n",
    "            sl, acc = weightLoss(preA, rigW.permute(0, 2, 1))\n",
    "            W = (preA == preA.max(dim = 1, keepdim = True)[0]).float()\n",
    "        preJ = net(V, W, facesOneRingIdx, skeletonOneRingIdx)\n",
    "        l = loss(preJ, joints)\n",
    "        l.backward()\n",
    "        opt.step()\n",
    "        \n",
    "        batchLoss = float(l)\n",
    "        batchAcc = float(acc)\n",
    "        trainAcc += batchAcc\n",
    "        trainLoss += batchLoss\n",
    "        batchNum += 1\n",
    "        completedNum += batchSize\n",
    "        compltePer = completedNum/allTrainNUM\n",
    "        leftTime = ((time.time() - epochBegin)/compltePer - (time.time() - epochBegin))/60\n",
    "        sys.stdout.write('\\r 训练%i / %i, 关节点损失: %f, 准确率：%0.2f%%, 当前进度: %0.2f%%, 预计剩余%d分钟'%(completedNum, allTrainNUM, batchLoss, batchAcc*100, compltePer * 100, leftTime))\n",
    "        sys.stdout.flush()\n",
    "        \n",
    "    torch.save(net.state_dict(), \".\\stateDict\\epochs\\jointNet_%d.pkl\"%epoch)\n",
    "    print(\"\\n\")\n",
    "    print(\"epoch%d, 关节点损失: %f, 准确率：%0.2f%%, 用时：%0.2f minuetes\"%(epoch+1, trainLoss/batchNum, trainAcc/batchNum*100, (time.time() - beginTime) / 60 ))\n",
    "    print(\"----------------------------------\")\n",
    "    scheduler.step()"
   ]
  },
  {
   "cell_type": "code",
   "execution_count": null,
   "id": "d5c41640",
   "metadata": {},
   "outputs": [],
   "source": [
    "torch.save(net.state_dict(), \".\\stateDict\\jointNet_finetune_noise.pkl\")"
   ]
  },
  {
   "cell_type": "code",
   "execution_count": null,
   "id": "eecd245b",
   "metadata": {},
   "outputs": [],
   "source": [
    "# jointNet = JointNet()\n",
    "# jointNet.load_state_dict(torch.load(\".\\stateDict\\jointNet_finetune_noise.pkl\"))\n",
    "\n",
    "# weightNet = WeightBindingNet(jointNum = 24)\n",
    "# weightNet.load_state_dict(torch.load(\".\\stateDict\\weightNet_pretrain_noise.pkl\"))\n",
    "\n",
    "net = SkinningNet(net, weightNet)\n",
    "net = net.to(device)\n",
    "\n",
    "torch.save(net.state_dict(), \".\\stateDict\\skinningNet_finetune_noise.pkl\")"
   ]
  },
  {
   "cell_type": "code",
   "execution_count": null,
   "id": "af5c9dc5",
   "metadata": {},
   "outputs": [],
   "source": []
  }
 ],
 "metadata": {
  "kernelspec": {
   "display_name": "Python 3.9.12 ('PoseTransfer')",
   "language": "python",
   "name": "python3"
  },
  "language_info": {
   "codemirror_mode": {
    "name": "ipython",
    "version": 3
   },
   "file_extension": ".py",
   "mimetype": "text/x-python",
   "name": "python",
   "nbconvert_exporter": "python",
   "pygments_lexer": "ipython3",
   "version": "3.9.12"
  },
  "vscode": {
   "interpreter": {
    "hash": "afd1c8bd986bd51500ccc481c6a9a98dc1aa24acb23947512a2e61ee78bbeeeb"
   }
  }
 },
 "nbformat": 4,
 "nbformat_minor": 5
}
