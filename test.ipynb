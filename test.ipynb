{
 "cells": [
  {
   "cell_type": "code",
   "execution_count": null,
   "id": "f2453f2e",
   "metadata": {},
   "outputs": [],
   "source": [
    "import os\n",
    "import sys\n",
    "import time\n",
    "import numpy as np\n",
    "import torch\n",
    "import torch.nn as nn\n",
    "import torch.nn.functional as Function\n",
    "from torch.optim.lr_scheduler import CosineAnnealingLR\n",
    "from torch.utils.data import DataLoader\n",
    "from model.dataset import SMPLTestPairDataset\n",
    "\n",
    "from model.SkinningNet import SkinningNet\n",
    "from model.NeuralSkinningPoseTransfer import poseTransfer\n",
    "from model.utils import PoseTransferLoss, getFacesOneRingIdx, getLaplacianMatrix\n",
    "\n",
    "from meshplot import plot\n",
    "import igl\n",
    "device = torch.device('cuda' if torch.cuda.is_available() else 'cpu')\n",
    "print(\"device:%s\"%device)"
   ]
  },
  {
   "cell_type": "code",
   "execution_count": null,
   "id": "71057eff",
   "metadata": {},
   "outputs": [],
   "source": [
    "batchSize = 16\n",
    "dataset = SMPLTestPairDataset(complexity = \"simple\", gender = \"male\", vertexOrderRandom = False)\n",
    "dataIter = DataLoader(dataset, num_workers=0, batch_size=batchSize, shuffle=False, drop_last=False)\n",
    "allDataNUM = len(dataset)"
   ]
  },
  {
   "cell_type": "code",
   "execution_count": null,
   "id": "c46e9eeb",
   "metadata": {},
   "outputs": [],
   "source": [
    "net = SkinningNet()\n",
    "net = net.to(device)\n",
    "net.load_state_dict(torch.load(\".\\stateDict\\skinningNet_finetune_noise.pkl\"))\n",
    "net = net.eval()"
   ]
  },
  {
   "cell_type": "code",
   "execution_count": null,
   "id": "741f9c96",
   "metadata": {},
   "outputs": [],
   "source": [
    "loss = PoseTransferLoss()\n",
    "\n",
    "F = torch.tensor(dataset.faces).unsqueeze(0).to(device).long().repeat(batchSize, 1, 1)\n",
    "facesOneRingIdx = torch.tensor(getFacesOneRingIdx(dataset.faces)).to(device).long().unsqueeze(0).repeat(batchSize, 1, 1)"
   ]
  },
  {
   "cell_type": "code",
   "execution_count": null,
   "id": "a33ad1c5",
   "metadata": {},
   "outputs": [],
   "source": [
    "beginTime = time.time()\n",
    "\n",
    "PMDLoss = 0.0\n",
    "ELRLoss = 0.0\n",
    "completedNum = 0\n",
    "batchNum = 0\n",
    "for sV, rV, tV, _ in dataIter:\n",
    "    sV = sV.to(device).float()\n",
    "    rV = rV.to(device).float()\n",
    "    tV = tV.to(device).float()\n",
    "    \n",
    "    laplacian = getLaplacianMatrix(sV, F, weight = \"cotangent\")\n",
    "    preV, _, _, _, _, _ = poseTransfer(net, sV, facesOneRingIdx, rV, facesOneRingIdx, laplacian, blendShape = \"lbs\", dLambda = 50)\n",
    "    PMD, ELR = loss(preV, tV, F)\n",
    "    PMD = float(PMD)\n",
    "    ELR = float(ELR)\n",
    "    \n",
    "    completedNum += batchSize\n",
    "    if (np.isnan(PMD) == True) or (np.isnan(ELR) == True):\n",
    "        continue\n",
    "    PMDLoss += PMD\n",
    "    ELRLoss += ELR\n",
    "    batchNum += 1\n",
    "    compltePer = completedNum/allDataNUM\n",
    "    leftTime = ((time.time() - beginTime)/compltePer - (time.time() - beginTime))/60\n",
    "    sys.stdout.write('\\r 训练%i / %i, EMD损失: %f, ELR损失: %f, 当前进度: %0.2f%%, 预计剩余%d分钟'%(completedNum, allDataNUM, PMDLoss/batchNum, ELRLoss/batchNum, compltePer * 100, leftTime))\n",
    "    sys.stdout.flush()\n",
    "print(\"\\n\")\n",
    "print(\"EMD损失: %f, ELR损失: %f, 用时：%0.2f minuetes\"%(PMDLoss/batchNum, ELRLoss/batchNum, (time.time() - beginTime) / 60 ))\n",
    "print(\"----------------------------------\")\n"
   ]
  },
  {
   "cell_type": "code",
   "execution_count": null,
   "id": "e6fae97c",
   "metadata": {},
   "outputs": [],
   "source": [
    "\"dqs lambda-20: EMD0.000361, ELR损失: 0.136000\"\n",
    "\n",
    "\"lbs, lambda-5: EMD损失: 0.000369, ELR损失: 0.166071\"\n",
    "\"lbs, lambda-10:EMD损失: 0.000364, ELR损失: 0.149422\"\n",
    "\"lbs, lambda-15:EMD损失: 0.000362, ELR损失: 0.141333\"\n",
    "\"lbs, lambda-20:EMD损失: 0.000360, ELR损失: 0.136911\"\n",
    "\"lbs, lambda-25:EMD损失: 0.000360, ELR损失: 0.134205\"\n",
    "\"lbs, lambda-30:EMD损失: 0.000359, ELR损失: 0.132456\"\n",
    "\"lbs, lambda-35:EMD损失: 0.000360, ELR损失: 0.131339\"\n",
    "\"lbs, lambda-40:EMD损失: 0.000360, ELR损失: 0.130668\"\n",
    "\"lbs, lambda-45:EMD损失: 0.000361, ELR损失: 0.130300\"\n",
    "#plot(preV[0].cpu().numpy(), dataset.faces)\n",
    "#plot(tV[0].cpu().numpy(), dataset.faces)"
   ]
  },
  {
   "cell_type": "code",
   "execution_count": null,
   "id": "1a07e8dc",
   "metadata": {},
   "outputs": [],
   "source": [
    "A[np.arange(A.shape[0]), np.arange(A.shape[0])] = -A.sum(axis = 1)"
   ]
  },
  {
   "cell_type": "code",
   "execution_count": null,
   "id": "0e1fdf3a",
   "metadata": {},
   "outputs": [],
   "source": [
    "PMDLoss = 0.0\n",
    "ELRLoss = 0.0"
   ]
  },
  {
   "cell_type": "code",
   "execution_count": null,
   "id": "f8792741",
   "metadata": {},
   "outputs": [],
   "source": [
    "(0 if np.isnan(float(ELR)) == True else ELR)"
   ]
  },
  {
   "cell_type": "code",
   "execution_count": null,
   "id": "5f595f50",
   "metadata": {},
   "outputs": [],
   "source": [
    "ELR = np.nan"
   ]
  },
  {
   "cell_type": "code",
   "execution_count": null,
   "id": "fd4433e0",
   "metadata": {},
   "outputs": [],
   "source": [
    "ELR"
   ]
  },
  {
   "cell_type": "code",
   "execution_count": null,
   "id": "96832379",
   "metadata": {},
   "outputs": [],
   "source": []
  }
 ],
 "metadata": {
  "kernelspec": {
   "display_name": "Python 3.9.12 ('PoseTransfer')",
   "language": "python",
   "name": "python3"
  },
  "language_info": {
   "codemirror_mode": {
    "name": "ipython",
    "version": 3
   },
   "file_extension": ".py",
   "mimetype": "text/x-python",
   "name": "python",
   "nbconvert_exporter": "python",
   "pygments_lexer": "ipython3",
   "version": "3.9.12"
  },
  "vscode": {
   "interpreter": {
    "hash": "afd1c8bd986bd51500ccc481c6a9a98dc1aa24acb23947512a2e61ee78bbeeeb"
   }
  }
 },
 "nbformat": 4,
 "nbformat_minor": 5
}
