{
 "cells": [
  {
   "cell_type": "code",
   "execution_count": null,
   "metadata": {},
   "outputs": [],
   "source": [
    "import torch\n",
    "import igl\n",
    "import meshplot as mp\n",
    "import numpy as np\n",
    "\n",
    "from models.SkinningNet import SkinningNet\n",
    "from utils.OneRingIdx import getFacesOneRingIdx,getSkeletonOneRingIdx\n",
    "from utils.Skeleton import getBonesEdge\n",
    "from utils.Visualization import showWeight\n",
    "from utils.SaveFile import save_obj\n",
    "from deformation.DiffusionFlow import smoothWeight\n",
    "from deformation.GetTransferMatrix import skeletonTransferWithVirtualJoints,AddVirtualJoints, skeletonTransferWithVirtualJoints_Q,skeletonTransferWithVirtualJoints_Animal,AddVirtualJoints_Animal\n",
    "from deformation.SkinningDeformation import LBS,DQS,DQS_pytorch\n",
    "from datasets.smpl import SMPLLayer\n",
    "from utils.Garment_mapping import get_garment_weight\n",
    "from SkeletonPoseTransfer import SkeletonPoseTransfer\n",
    "\n",
    "from deformation.dqs import dqs\n",
    "\n",
    "device=torch.device(\"cuda\" if torch.cuda.is_available() else \"cpu\")"
   ]
  },
  {
   "cell_type": "code",
   "execution_count": null,
   "metadata": {},
   "outputs": [],
   "source": [
    "##### 1.Input Data\n",
    "\n",
    "source_V, source_F = igl.read_triangle_mesh('./test_data/smpl0.obj')\n",
    "source_F_idx = torch.tensor(getFacesOneRingIdx(source_F)).unsqueeze(0).to(device).long()\n",
    "source_S_idx = torch.tensor(getSkeletonOneRingIdx()).unsqueeze(0).to(device).long()\n",
    "source_V = torch.tensor(source_V).unsqueeze(0).to(device).float()\n",
    "\n",
    "\n",
    "refer_V, refer_F = igl.read_triangle_mesh('./test_data/smpl1.obj')\n",
    "refer_F_idx = torch.tensor(getFacesOneRingIdx(refer_F)).unsqueeze(0).to(device).long()\n",
    "refer_S_idx = torch.tensor(getSkeletonOneRingIdx()).unsqueeze(0).to(device).long()\n",
    "refer_V = torch.tensor(refer_V).unsqueeze(0).to(device).float()"
   ]
  },
  {
   "cell_type": "code",
   "execution_count": null,
   "metadata": {},
   "outputs": [],
   "source": [
    "##### 2.Neural Network\n",
    "\n",
    "model=SkinningNet(jointNum=24).to(device)\n",
    "model.load_state_dict(torch.load('./statedict/skinningNet_finetune_noise.pkl'))\n",
    "# model=SkinningNet(jointNum=33).to(device)\n",
    "# model.load_state_dict(torch.load('./statedict/skinningNet_finetuen_animal.pkl'))\n",
    "model.eval()\n",
    "print(\"model load\")\n",
    "source_J, source_Att = model(source_V, source_F_idx)\n",
    "source_rigW = source_Att.detach()\n",
    "source_rigW = (source_rigW == source_rigW.max(dim = 1, keepdim = True)[0]).float().cpu().permute(0,2,1).squeeze(0).numpy()\n",
    "\n",
    "refer_J, refer_Att = model(refer_V, refer_F_idx)\n",
    "refer_rigW = refer_Att.detach()\n",
    "refer_rigW = (refer_rigW == refer_rigW.max(dim = 1, keepdim = True)[0]).float().cpu().permute(0,2,1).squeeze(0).numpy()\n",
    "\n",
    "print('source joints')\n",
    "viewer = mp.plot(source_J[0].detach().cpu().numpy(),shading={'point_color':'blue','point_size':0.3})\n",
    "viewer.add_points(source_V[0].detach().cpu().numpy(),shading={'point_color':'red','point_size':0.05})\n",
    "viewer.add_edges(source_J[0].detach().cpu().numpy(),getBonesEdge(), shading={\"line_color\":\"green\"})\n",
    "print('refer joints')\n",
    "viewer = mp.plot(refer_J[0].detach().cpu().numpy(),shading={'point_color':'blue','point_size':0.3})\n",
    "viewer.add_points(refer_V[0].detach().cpu().numpy(),shading={'point_color':'red','point_size':0.05})\n",
    "viewer.add_edges(refer_J[0].detach().cpu().numpy(),getBonesEdge(), shading={\"line_color\":\"green\"})"
   ]
  },
  {
   "cell_type": "code",
   "execution_count": null,
   "metadata": {},
   "outputs": [],
   "source": [
    "##### 3.Deformation\n",
    "\n",
    "source_V = source_V[0].cpu().numpy()\n",
    "source_J = source_J[0].detach().cpu().numpy()\n",
    "source_rigW = source_Att.detach()\n",
    "source_rigW = (source_rigW == source_rigW.max(dim = 1, keepdim = True)[0]).float().cpu().permute(0,2,1).squeeze(0).numpy()\n",
    "source_smoothW = smoothWeight(source_V, source_F, source_rigW)\n",
    "\n",
    "refer_V = refer_V[0].cpu().numpy()\n",
    "refer_J = refer_J[0].detach().cpu().numpy()\n",
    "refer_rigW = refer_Att.detach()\n",
    "refer_rigW = (refer_rigW == refer_rigW.max(dim = 1, keepdim = True)[0]).float().cpu().permute(0,2,1).squeeze(0).numpy()\n",
    "refer_smoothW = smoothWeight(refer_V, refer_F, refer_rigW)\n",
    "\n",
    "print('source weight')\n",
    "viewer = showWeight(\n",
    "    source_V,\n",
    "    source_F,\n",
    "    source_rigW\n",
    ")\n",
    "print('refer weight')\n",
    "viewer = showWeight(\n",
    "    refer_V,\n",
    "    refer_F,\n",
    "    refer_rigW\n",
    ")\n",
    "\n",
    "\n",
    "transfer_matrix = SkeletonPoseTransfer(\n",
    "    AddVirtualJoints(torch.tensor(source_J).unsqueeze(0), torch.tensor(source_V).unsqueeze(0), torch.tensor(source_rigW).unsqueeze(0)),\n",
    "    AddVirtualJoints(torch.tensor(refer_J).unsqueeze(0), torch.tensor(refer_V).unsqueeze(0), torch.tensor(refer_rigW).unsqueeze(0))\n",
    ")\n",
    "\n",
    "\n",
    "LBS_result = LBS(\n",
    "    torch.tensor(source_V).unsqueeze(0),\n",
    "    torch.tensor(source_smoothW).unsqueeze(0),\n",
    "    transfer_matrix\n",
    ")\n"
   ]
  },
  {
   "cell_type": "code",
   "execution_count": null,
   "metadata": {},
   "outputs": [],
   "source": [
    "##### 4.Plot\n",
    "\n",
    "print('source')\n",
    "mp.plot(source_V,source_F)\n",
    "\n",
    "print('reference')\n",
    "mp.plot(refer_V,refer_F)\n",
    "\n",
    "print('LBS')\n",
    "mp.plot(LBS_result[0].numpy(),source_F)\n"
   ]
  }
 ],
 "metadata": {
  "kernelspec": {
   "display_name": "Python 3.8.13 ('pytorch-1.9.0')",
   "language": "python",
   "name": "python3"
  },
  "language_info": {
   "codemirror_mode": {
    "name": "ipython",
    "version": 3
   },
   "file_extension": ".py",
   "mimetype": "text/x-python",
   "name": "python",
   "nbconvert_exporter": "python",
   "pygments_lexer": "ipython3",
   "version": "3.9.12"
  },
  "orig_nbformat": 4,
  "vscode": {
   "interpreter": {
    "hash": "cc27e5e8b7b5f936509cf55bb836519fbb366d71f09319aeddaeac0e8ac04bfc"
   }
  }
 },
 "nbformat": 4,
 "nbformat_minor": 2
}
