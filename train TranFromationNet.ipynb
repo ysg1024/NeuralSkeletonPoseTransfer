{
 "cells": [
  {
   "cell_type": "code",
   "execution_count": null,
   "id": "d5f571ba",
   "metadata": {},
   "outputs": [],
   "source": [
    "import os\n",
    "import sys\n",
    "import time\n",
    "import numpy as np\n",
    "import torch\n",
    "import torch.nn as nn\n",
    "import torch.nn.functional as Function\n",
    "from torch.optim.lr_scheduler import CosineAnnealingLR\n",
    "from torch.utils.data import DataLoader\n",
    "from model.dataset_transfomation import SMPLRandomDataset\n",
    "\n",
    "from model.SkeletonTransformationNet import TransformationNet, DeformationtionNet\n",
    "from model.utils import SkinningLoss\n",
    "\n",
    "from meshplot import plot\n",
    "import igl\n",
    "device = torch.device('cuda' if torch.cuda.is_available() else 'cpu')\n",
    "print(\"device:%s\"%device)"
   ]
  },
  {
   "cell_type": "code",
   "execution_count": null,
   "id": "272ea0e8",
   "metadata": {},
   "outputs": [],
   "source": [
    "batchSize = 8\n",
    "trainDataset = SMPLRandomDataset(complexity = \"simple\", gender = \"male\")\n",
    "trainIter = DataLoader(trainDataset, num_workers=0, batch_size=batchSize, shuffle=True, drop_last=True)\n",
    "allTrainNUM = len(trainDataset)"
   ]
  },
  {
   "cell_type": "code",
   "execution_count": null,
   "id": "a658c653",
   "metadata": {},
   "outputs": [],
   "source": [
    "net = TransformationNet()\n",
    "net = net.to(device)\n",
    "deformNet = DeformationtionNet(trainDataset.smplLayer.kintree_table)\n",
    "deformNet.to(device)"
   ]
  },
  {
   "cell_type": "code",
   "execution_count": null,
   "id": "2f8db0d2",
   "metadata": {},
   "outputs": [],
   "source": [
    "lr = 0.0001\n",
    "epochs = 100\n",
    "opt = torch.optim.Adam(net.parameters(), lr=lr)\n",
    "scheduler = CosineAnnealingLR(opt, epochs, eta_min=lr)\n",
    "loss = nn.MSELoss()"
   ]
  },
  {
   "cell_type": "code",
   "execution_count": null,
   "id": "de6876f5",
   "metadata": {},
   "outputs": [],
   "source": [
    "beginTime = time.time()\n",
    "net = net.train()\n",
    "\n",
    "for epoch in range(epochs):\n",
    "    epochBegin = time.time()\n",
    "    trainLoss = 0.0\n",
    "    completedNum = 0\n",
    "    batchNum = 0\n",
    "    for sV, sFacesOneRingIdx, sW, sRigW, sJ, rV, rFacesOneRingIdx, rW, rRigW, rJ, tV, tJ in trainIter:\n",
    "        sV = sV.to(device).float()\n",
    "        sW = sW.to(device).float()\n",
    "        sFacesOneRingIdx = sFacesOneRingIdx.to(device).long()\n",
    "        sJ = sJ.to(device).float()\n",
    "        sRigW = sRigW.to(device).float()\n",
    "        rV = rV.to(device).float()\n",
    "        rFacesOneRingIdx = rFacesOneRingIdx.to(device).long()\n",
    "        rW = rW.to(device).float()\n",
    "        rJ = rJ.to(device).float()\n",
    "        tV = tV.to(device).float()\n",
    "        rRigW = rRigW.to(device).float()\n",
    "        \n",
    "        opt.zero_grad()\n",
    "\n",
    "        prePose = net(sV, sFacesOneRingIdx, sRigW, sJ, rV, rFacesOneRingIdx, rRigW, rJ)\n",
    "        preV = deformNet(sV[:, :, 0:3], sJ, prePose, sW)\n",
    "        \n",
    "        l= loss(preV, tV)\n",
    "        l.backward()\n",
    "        opt.step()\n",
    "        \n",
    "        batchLoss = float(l)\n",
    "        trainLoss += batchLoss\n",
    "        batchNum += 1\n",
    "        completedNum += batchSize\n",
    "        compltePer = completedNum/allTrainNUM\n",
    "        leftTime = ((time.time() - epochBegin)/compltePer - (time.time() - epochBegin))/60\n",
    "        sys.stdout.write('\\r 训练%i / %i, 关节点损失: %f, 当前进度: %0.2f%%, 预计剩余%d分钟'%(completedNum, allTrainNUM, batchLoss, compltePer * 100, leftTime))\n",
    "        sys.stdout.flush()\n",
    "    torch.save(net.state_dict(), \".\\stateDict\\skinningNet_epochs.pkl\")\n",
    "    print(\"\\n\")\n",
    "    print(\"epoch%d, 关节点损失: %f, 用时：%0.2f minuetes\"%(epoch+1, trainLoss/batchNum, (time.time() - beginTime) / 60 ))\n",
    "    print(\"----------------------------------\")\n",
    "    scheduler.step()"
   ]
  },
  {
   "cell_type": "code",
   "execution_count": null,
   "id": "4fcdebbb",
   "metadata": {},
   "outputs": [],
   "source": [
    "a = torch.randn(2, 24, 4, 4)\n",
    "b = torch.randn(2, 6890, 24)"
   ]
  },
  {
   "cell_type": "code",
   "execution_count": null,
   "id": "358d792e",
   "metadata": {},
   "outputs": [],
   "source": [
    "5760 / 2 / 24"
   ]
  },
  {
   "cell_type": "code",
   "execution_count": null,
   "id": "95a3e92d",
   "metadata": {},
   "outputs": [],
   "source": []
  },
  {
   "cell_type": "code",
   "execution_count": null,
   "id": "436f6a69",
   "metadata": {},
   "outputs": [],
   "source": []
  }
 ],
 "metadata": {
  "kernelspec": {
   "display_name": "Python 3 (ipykernel)",
   "language": "python",
   "name": "python3"
  },
  "language_info": {
   "codemirror_mode": {
    "name": "ipython",
    "version": 3
   },
   "file_extension": ".py",
   "mimetype": "text/x-python",
   "name": "python",
   "nbconvert_exporter": "python",
   "pygments_lexer": "ipython3",
   "version": "3.9.12"
  }
 },
 "nbformat": 4,
 "nbformat_minor": 5
}
