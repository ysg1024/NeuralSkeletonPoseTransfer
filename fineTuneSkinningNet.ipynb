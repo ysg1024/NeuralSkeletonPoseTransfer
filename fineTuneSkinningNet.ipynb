{
 "cells": [
  {
   "cell_type": "code",
   "execution_count": null,
   "id": "ce14a473",
   "metadata": {},
   "outputs": [],
   "source": [
    "import os\n",
    "import sys\n",
    "import time\n",
    "import numpy as np\n",
    "import torch\n",
    "import torch.nn as nn\n",
    "import torch.nn.functional as Function\n",
    "from torch.optim.lr_scheduler import CosineAnnealingLR\n",
    "from torch.utils.data import DataLoader\n",
    "\n",
    "from model.dataset import SMPLRandomDataset\n",
    "from model.SkinningNet import JointNet, WeightBindingNet, SkinningNet\n",
    "from model.utils import SkinningLoss\n",
    "\n",
    "from meshplot import plot\n",
    "import igl\n",
    "device = torch.device('cuda' if torch.cuda.is_available() else 'cpu')\n",
    "print(\"device:%s\"%device)"
   ]
  },
  {
   "cell_type": "code",
   "execution_count": null,
   "id": "cd8fdd04",
   "metadata": {},
   "outputs": [],
   "source": [
    "batchSize = 8\n",
    "trainDataset = SMPLRandomDataset(complexity = \"all\", \n",
    "                                 gender = \"mixed\", \n",
    "                                 dataSize = 5000, \n",
    "                                 vertexOrderRandom = True, \n",
    "                                 noise = 0, \n",
    "                                 rotate = True, \n",
    "                                 scale = True,\n",
    "                                 translate = True,\n",
    "                                 centre = False)\n",
    "trainIter = DataLoader(trainDataset, num_workers=0, batch_size=batchSize, shuffle=True, drop_last=True)\n",
    "allTrainNUM = len(trainDataset)"
   ]
  },
  {
   "cell_type": "code",
   "execution_count": null,
   "id": "3c11eaeb",
   "metadata": {},
   "outputs": [],
   "source": [
    "jointNet = JointNet()\n",
    "jointNet.load_state_dict(torch.load(\".\\stateDict\\jointNet_pretrain_rotation.pkl\"))\n",
    "\n",
    "weightNet = WeightBindingNet(jointNum = 24)\n",
    "weightNet.load_state_dict(torch.load(\".\\stateDict\\weightNet_pretrain_rotation.pkl\"))\n",
    "\n",
    "net = SkinningNet(jointNet, weightNet)\n",
    "#net = SkinningNet()\n",
    "net = net.to(device)"
   ]
  },
  {
   "cell_type": "code",
   "execution_count": null,
   "id": "1961f1f7",
   "metadata": {},
   "outputs": [],
   "source": [
    "lr = 0.00005\n",
    "epochs = 100\n",
    "opt = torch.optim.Adam(net.parameters(), lr=lr)\n",
    "scheduler = CosineAnnealingLR(opt, epochs, eta_min=0.1*lr)\n",
    "loss = SkinningLoss()"
   ]
  },
  {
   "cell_type": "code",
   "execution_count": null,
   "id": "c37082ea",
   "metadata": {},
   "outputs": [],
   "source": [
    "beginTime = time.time()\n",
    "net = net.train()\n",
    "\n",
    "for epoch in range(epochs):\n",
    "    epochBegin = time.time()\n",
    "    trainLoss = 0.0\n",
    "    completedNum = 0\n",
    "    batchNum = 0\n",
    "    trainAcc = 0.0\n",
    "    for V, facesOneRingIdx, rigW, joints in trainIter:\n",
    "        V = V.to(device).float()\n",
    "        joints = joints.to(device).float()\n",
    "        facesOneRingIdx = facesOneRingIdx.to(device).long()\n",
    "        rigW = rigW.to(device).float()\n",
    "        \n",
    "        opt.zero_grad()\n",
    "        \n",
    "        preJ, preA = net(V, facesOneRingIdx)\n",
    "        jl, sl, acc = loss(preJ, preA, joints, rigW.permute(0, 2, 1))\n",
    "        l = jl+sl\n",
    "        l.backward()\n",
    "        opt.step()\n",
    "        \n",
    "        batchLoss = float(jl)\n",
    "        batchAcc = float(acc)\n",
    "        trainAcc += batchAcc\n",
    "        trainLoss += batchLoss\n",
    "        batchNum += 1\n",
    "        completedNum += batchSize\n",
    "        compltePer = completedNum/allTrainNUM\n",
    "        leftTime = ((time.time() - epochBegin)/compltePer - (time.time() - epochBegin))/60\n",
    "        sys.stdout.write('\\r 训练%i / %i, 关节点损失: %f, 准确率：%0.2f%%, 当前进度: %0.2f%%, 预计剩余%d分钟'%(completedNum, allTrainNUM, batchLoss, batchAcc*100, compltePer * 100, leftTime))\n",
    "        sys.stdout.flush()\n",
    "        \n",
    "    torch.save(net.state_dict(), \".\\stateDict\\epochs\\skinningNet_%d.pkl\"%epoch)\n",
    "    print(\"\\n\")\n",
    "    print(\"epoch%d, 关节点损失: %f, 准确率：%0.2f%%, 用时：%0.2f minuetes\"%(epoch+1, trainLoss/batchNum, trainAcc/batchNum*100, (time.time() - beginTime) / 60 ))\n",
    "    print(\"----------------------------------\")\n",
    "    scheduler.step()"
   ]
  },
  {
   "cell_type": "code",
   "execution_count": null,
   "id": "87f59cc5",
   "metadata": {},
   "outputs": [],
   "source": [
    "torch.save(net.state_dict(), \".\\stateDict\\skinningNet_fineture_rotation.pkl\")"
   ]
  },
  {
   "cell_type": "code",
   "execution_count": null,
   "id": "7208f075",
   "metadata": {},
   "outputs": [],
   "source": [
    "batchSize = 8\n",
    "testDataset = SMPLRandomDataset(complexity = \"all\", \n",
    "                                 gender = \"mixed\", \n",
    "                                 dataSize = 5000, \n",
    "                                 vertexOrderRandom = True, \n",
    "                                 noise = 0, \n",
    "                                 rotate = False, \n",
    "                                 scale = False,\n",
    "                                 translate = False,\n",
    "                                 centre = True)\n",
    "testIter = DataLoader(testDataset, num_workers=0, batch_size=batchSize, shuffle=True, drop_last=True)\n",
    "allTestNUM = len(testDataset)"
   ]
  },
  {
   "cell_type": "code",
   "execution_count": null,
   "id": "c889ba74",
   "metadata": {},
   "outputs": [],
   "source": [
    "net = SkinningNet(transform = False)\n",
    "net = net.to(device)\n",
    "net.load_state_dict(torch.load(\".\\stateDict\\skinningNet_fineture_rotation.pkl\"))\n",
    "loss = SkinningLoss()"
   ]
  },
  {
   "cell_type": "code",
   "execution_count": null,
   "id": "a00efdd1",
   "metadata": {},
   "outputs": [],
   "source": [
    "testLoss = 0.0\n",
    "completedNum = 0\n",
    "batchNum = 0\n",
    "testAcc = 0.0\n",
    "timeBegin = time.time()\n",
    "net = net.eval()\n",
    "for V, facesOneRingIdx, rigW, joints in testIter:\n",
    "    V = V.to(device).float()\n",
    "    joints = joints.to(device).float()\n",
    "    facesOneRingIdx = facesOneRingIdx.to(device).long()\n",
    "    rigW = rigW.to(device).float()\n",
    "    with torch.no_grad():\n",
    "        preJ, preA = net(V, facesOneRingIdx)\n",
    "        jl, sl, acc =loss(preJ, preA, joints, rigW.permute(0, 2, 1))\n",
    "        l = jl+sl\n",
    "\n",
    "    batchLoss = float(jl)\n",
    "    batchAcc = float(acc)\n",
    "    testAcc += batchAcc\n",
    "    testLoss += batchLoss\n",
    "    batchNum += 1\n",
    "    completedNum += batchSize\n",
    "    compltePer = completedNum/allTestNUM\n",
    "    leftTime = ((time.time() - timeBegin)/compltePer - (time.time() - timeBegin))/60\n",
    "    sys.stdout.write('\\r 测试%i / %i, 关节点损失: %f, 准确率：%0.2f%%, 当前进度: %0.2f%%, 预计剩余%d分钟'%(completedNum, allTestNUM, batchLoss, batchAcc*100, compltePer * 100, leftTime))\n",
    "    sys.stdout.flush()\n",
    "print(\"测试完成，关节点损失: %0f%%, 平均准确率：%0.2f%%\"%(testLoss, testAcc))"
   ]
  },
  {
   "cell_type": "code",
   "execution_count": null,
   "id": "a23ddc83",
   "metadata": {},
   "outputs": [],
   "source": [
    "from LBS import LBS, getBetaMatrix\n",
    "from SkeletonTransfer import skeletonTransfer, skeletonTransferWithVirtualJoints, AddVirtualJoints"
   ]
  }
 ],
 "metadata": {
  "kernelspec": {
   "display_name": "Python 3.9.12 ('PoseTransfer')",
   "language": "python",
   "name": "python3"
  },
  "language_info": {
   "codemirror_mode": {
    "name": "ipython",
    "version": 3
   },
   "file_extension": ".py",
   "mimetype": "text/x-python",
   "name": "python",
   "nbconvert_exporter": "python",
   "pygments_lexer": "ipython3",
   "version": "3.9.12"
  },
  "vscode": {
   "interpreter": {
    "hash": "afd1c8bd986bd51500ccc481c6a9a98dc1aa24acb23947512a2e61ee78bbeeeb"
   }
  }
 },
 "nbformat": 4,
 "nbformat_minor": 5
}
