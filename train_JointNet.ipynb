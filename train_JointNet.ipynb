{
 "cells": [
  {
   "cell_type": "code",
   "execution_count": null,
   "metadata": {},
   "outputs": [],
   "source": [
    "import sys\n",
    "import time\n",
    "import numpy as np\n",
    "import torch\n",
    "from torch.optim.lr_scheduler import CosineAnnealingLR\n",
    "from torch.utils.data import DataLoader\n",
    "\n",
    "from datasets.dataset import SMPLRandomDataset\n",
    "from models.SkinningNet import JointNet\n",
    "from utils.LossFunction import JointLoss\n",
    "from utils.OneRingIdx import getSkeletonOneRingIdx\n",
    "\n",
    "device = torch.device('cuda' if torch.cuda.is_available() else 'cpu')\n",
    "print(\"device:%s\"%device)"
   ]
  },
  {
   "cell_type": "code",
   "execution_count": null,
   "metadata": {},
   "outputs": [],
   "source": [
    "batchSize = 16\n",
    "trainDataset = SMPLRandomDataset(complexity = \"skinning\", \n",
    "                                 gender = \"mixed\", \n",
    "                                 dataSize = 5000, \n",
    "                                 vertexOrderRandom = True, \n",
    "                                 noise = 1, \n",
    "                                 rotate = False, \n",
    "                                 scale = True,\n",
    "                                 translate = True,\n",
    "                                 centre = False)\n",
    "trainIter = DataLoader(trainDataset, num_workers=0, batch_size=batchSize, shuffle=True, drop_last=True)\n",
    "allTrainNUM = len(trainDataset)"
   ]
  },
  {
   "cell_type": "code",
   "execution_count": null,
   "metadata": {},
   "outputs": [],
   "source": [
    "net = JointNet()\n",
    "net = net.to(device)"
   ]
  },
  {
   "cell_type": "code",
   "execution_count": null,
   "metadata": {},
   "outputs": [],
   "source": [
    "lr = 0.00005\n",
    "epochs = 100\n",
    "opt = torch.optim.Adam(net.parameters(), lr=lr)\n",
    "scheduler = CosineAnnealingLR(opt, epochs, eta_min=0.1*lr)\n",
    "loss = JointLoss()"
   ]
  },
  {
   "cell_type": "code",
   "execution_count": null,
   "metadata": {},
   "outputs": [],
   "source": [
    "beginTime = time.time()\n",
    "net = net.train()\n",
    "\n",
    "skeletonOneRingIdx = getSkeletonOneRingIdx(\"human\")\n",
    "skeletonOneRingIdx = torch.tensor(skeletonOneRingIdx).unsqueeze(0).repeat(batchSize, 1, 1).to(device).long()\n",
    "for epoch in range(epochs):\n",
    "    epochBegin = time.time()\n",
    "    trainLoss = 0.0\n",
    "    completedNum = 0\n",
    "    batchNum = 0\n",
    "    trainAcc = 0.0\n",
    "    for V, facesOneRingIdx, rigW, joints in trainIter:\n",
    "        V = V.to(device).float()\n",
    "        facesOneRingIdx = facesOneRingIdx.to(device).long()\n",
    "        rigW = rigW.to(device).float()\n",
    "        joints = joints.to(device).float()\n",
    "        opt.zero_grad()\n",
    "        \n",
    "        preJ = net(V, rigW, facesOneRingIdx, skeletonOneRingIdx)\n",
    "        l = loss(preJ, joints)\n",
    "        l.backward()\n",
    "        opt.step()\n",
    "        \n",
    "        batchLoss = float(l)\n",
    "        trainLoss += batchLoss\n",
    "        batchNum += 1\n",
    "        completedNum += batchSize\n",
    "        compltePer = completedNum/allTrainNUM\n",
    "        leftTime = ((time.time() - epochBegin)/compltePer - (time.time() - epochBegin))/60\n",
    "        sys.stdout.write('\\r Trainning %i / %i, joint loss: %f, percentage: %0.2f%%, remain %0.2f minuetes'%(completedNum, allTrainNUM, batchLoss, compltePer * 100, leftTime))\n",
    "        sys.stdout.flush()\n",
    "\n",
    "    save_path = './results/JointNet/'\n",
    "    if epoch%5 == 0:\n",
    "        torch.save(net.state_dict(), save_path + \"%d.pkl\"%epoch)\n",
    "    torch.save(net.state_dict(), save_path + \"latest.pkl\")\n",
    "    print(\"\\n\")\n",
    "    print(\"Epoch%d,  joint loss: %f, time cost: %0.2f minuetes\"%(epoch+1, trainLoss/batchNum, (time.time() - beginTime) / 60 ))\n",
    "    print(\"----------------------------------\")\n",
    "    scheduler.step()"
   ]
  }
 ],
 "metadata": {
  "kernelspec": {
   "display_name": "Python 3.8.13 ('pytorch-1.9.0')",
   "language": "python",
   "name": "python3"
  },
  "language_info": {
   "codemirror_mode": {
    "name": "ipython",
    "version": 3
   },
   "file_extension": ".py",
   "mimetype": "text/x-python",
   "name": "python",
   "nbconvert_exporter": "python",
   "pygments_lexer": "ipython3",
   "version": "3.9.12"
  },
  "orig_nbformat": 4,
  "vscode": {
   "interpreter": {
    "hash": "cc27e5e8b7b5f936509cf55bb836519fbb366d71f09319aeddaeac0e8ac04bfc"
   }
  }
 },
 "nbformat": 4,
 "nbformat_minor": 2
}
