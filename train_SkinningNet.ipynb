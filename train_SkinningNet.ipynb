{
 "cells": [
  {
   "cell_type": "code",
   "execution_count": null,
   "metadata": {},
   "outputs": [],
   "source": [
    "import sys\n",
    "import time\n",
    "import numpy as np\n",
    "import torch\n",
    "from torch.optim.lr_scheduler import CosineAnnealingLR\n",
    "from torch.utils.data import DataLoader\n",
    "\n",
    "from datasets.dataset import SMPLRandomDataset\n",
    "from models.SkinningNet import JointNet, WeightBindingNet, SkinningNet\n",
    "from utils.LossFunction import SkinningLoss\n",
    "from utils.OneRingIdx import getSkeletonOneRingIdx\n",
    "\n",
    "device = torch.device('cuda' if torch.cuda.is_available() else 'cpu')\n",
    "print(\"device:%s\"%device)"
   ]
  },
  {
   "cell_type": "code",
   "execution_count": null,
   "metadata": {},
   "outputs": [],
   "source": [
    "batchSize = 8\n",
    "trainDataset = SMPLRandomDataset(complexity = \"skinning\", \n",
    "                                 gender = \"mixed\", \n",
    "                                 dataSize = 5000, \n",
    "                                 vertexOrderRandom = True, \n",
    "                                 noise = 0, \n",
    "                                 rotate = True, \n",
    "                                 scale = True,\n",
    "                                 translate = True,\n",
    "                                 centre = False)\n",
    "trainIter = DataLoader(trainDataset, num_workers=0, batch_size=batchSize, shuffle=True, drop_last=True)\n",
    "allTrainNUM = len(trainDataset)"
   ]
  },
  {
   "cell_type": "code",
   "execution_count": null,
   "metadata": {},
   "outputs": [],
   "source": [
    "jointNet = JointNet()\n",
    "jointNet.load_state_dict(torch.load(\"./results/JointNet/latest.pkl\"))\n",
    "\n",
    "weightNet = WeightBindingNet(jointNum = 24)\n",
    "weightNet.load_state_dict(torch.load(\"./results/WeightBindingNet/latest.pkl\"))\n",
    "\n",
    "net = SkinningNet(jointNet, weightNet)\n",
    "net = net.to(device)"
   ]
  },
  {
   "cell_type": "code",
   "execution_count": null,
   "metadata": {},
   "outputs": [],
   "source": [
    "lr = 0.00005\n",
    "epochs = 100\n",
    "opt = torch.optim.Adam(net.parameters(), lr=lr)\n",
    "scheduler = CosineAnnealingLR(opt, epochs, eta_min=0.1*lr)\n",
    "loss = SkinningLoss()"
   ]
  },
  {
   "cell_type": "code",
   "execution_count": null,
   "metadata": {},
   "outputs": [],
   "source": [
    "beginTime = time.time()\n",
    "net = net.train()\n",
    "\n",
    "for epoch in range(epochs):\n",
    "    epochBegin = time.time()\n",
    "    trainLoss = 0.0\n",
    "    completedNum = 0\n",
    "    batchNum = 0\n",
    "    trainAcc = 0.0\n",
    "    for V, facesOneRingIdx, rigW, joints in trainIter:\n",
    "        V = V.to(device).float()\n",
    "        joints = joints.to(device).float()\n",
    "        facesOneRingIdx = facesOneRingIdx.to(device).long()\n",
    "        rigW = rigW.to(device).float()\n",
    "        \n",
    "        opt.zero_grad()\n",
    "        \n",
    "        preJ, preA = net(V, facesOneRingIdx)\n",
    "        jl, sl, acc = loss(preJ, preA, joints, rigW.permute(0, 2, 1))\n",
    "        l = jl+sl\n",
    "        l.backward()\n",
    "        opt.step()\n",
    "        \n",
    "        batchLoss = float(jl)\n",
    "        batchAcc = float(acc)\n",
    "        trainAcc += batchAcc\n",
    "        trainLoss += batchLoss\n",
    "        batchNum += 1\n",
    "        completedNum += batchSize\n",
    "        compltePer = completedNum/allTrainNUM\n",
    "        leftTime = ((time.time() - epochBegin)/compltePer - (time.time() - epochBegin))/60\n",
    "        sys.stdout.write('\\r Trainning %i / %i, joint loss: %f, acc: %0.2f%%, percentage: %0.2f%%, remain %d minuetes'%(completedNum, allTrainNUM, batchLoss, batchAcc*100, compltePer * 100, leftTime))\n",
    "        sys.stdout.flush()\n",
    "    \n",
    "    save_path = './results/SkinningNet/'\n",
    "    if epoch%10 == 0:\n",
    "        torch.save(net.state_dict(),save_path + \"%d.pkl\"%epoch)\n",
    "    torch.save(net.state_dict(), save_path + \"latest.pkl\")\n",
    "    print(\"\\n\")\n",
    "    print(\"Epoch%d, joint loss: %f, acc: %0.2f%%, time cost: %0.2f minuetes\"%(epoch+1, trainLoss/batchNum, trainAcc/batchNum*100, (time.time() - beginTime) / 60 ))\n",
    "    print(\"----------------------------------\")\n",
    "    scheduler.step()"
   ]
  }
 ],
 "metadata": {
  "kernelspec": {
   "display_name": "Python 3.8.13 ('pytorch-1.9.0')",
   "language": "python",
   "name": "python3"
  },
  "language_info": {
   "codemirror_mode": {
    "name": "ipython",
    "version": 3
   },
   "file_extension": ".py",
   "mimetype": "text/x-python",
   "name": "python",
   "nbconvert_exporter": "python",
   "pygments_lexer": "ipython3",
   "version": "3.9.12"
  },
  "orig_nbformat": 4,
  "vscode": {
   "interpreter": {
    "hash": "cc27e5e8b7b5f936509cf55bb836519fbb366d71f09319aeddaeac0e8ac04bfc"
   }
  }
 },
 "nbformat": 4,
 "nbformat_minor": 2
}
